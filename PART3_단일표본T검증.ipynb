{
  "nbformat": 4,
  "nbformat_minor": 0,
  "metadata": {
    "colab": {
      "provenance": []
    },
    "kernelspec": {
      "name": "python3",
      "display_name": "Python 3"
    },
    "language_info": {
      "name": "python"
    }
  },
  "cells": [
    {
      "cell_type": "code",
      "source": [
        "# 단일표본T검증\n",
        "\n",
        "## 1. shapiro pvalue > 0.05 정규성 있음 -> ttest_1samp\n",
        "## 2. shapiro pvalue < 0.05 정규성 없음 -> 비모수 wilcoxon"
      ],
      "metadata": {
        "id": "wEjcaaJRdfJU"
      },
      "execution_count": null,
      "outputs": []
    },
    {
      "cell_type": "code",
      "source": [
        "# 100명의 키 정보가 들어 있는 데이터가 있다.데이터가 정규성을 만족하는지 확인하라.\n",
        "# 그리고 평균키는 165라 판단할수 있는지 귀무가설과 대립가설을 설정한 후 유의수준 5%로 검정하라."
      ],
      "metadata": {
        "id": "kTIZVjUOtTF6"
      },
      "execution_count": 24,
      "outputs": []
    },
    {
      "cell_type": "code",
      "source": [
        "from scipy.stats import ttest_1samp\n",
        "from scipy.stats import shapiro\n",
        "from scipy.stats import wilcoxon\n",
        "\n",
        "import pandas as pd\n",
        "df = pd.read_csv('https://raw.githubusercontent.com/Datamanim/datarepo/main/scipy/height1.csv')"
      ],
      "metadata": {
        "id": "vdE8IYhnshBM"
      },
      "execution_count": 20,
      "outputs": []
    },
    {
      "cell_type": "code",
      "source": [
        "shapiro(df)\n",
        "# pvalue > 0.05 정규성 만족 -> ttest_1samp"
      ],
      "metadata": {
        "colab": {
          "base_uri": "https://localhost:8080/"
        },
        "id": "8zQSQJnNsZ_v",
        "outputId": "feaf4d80-65e6-4dc4-ac67-dbdf1f09b264"
      },
      "execution_count": 21,
      "outputs": [
        {
          "output_type": "execute_result",
          "data": {
            "text/plain": [
              "ShapiroResult(statistic=np.float64(0.9872671038154957), pvalue=np.float64(0.45583339816328994))"
            ]
          },
          "metadata": {},
          "execution_count": 21
        }
      ]
    },
    {
      "cell_type": "code",
      "source": [
        "ttest_1samp(df,165)\n",
        "# pvalue < 0.05 165 아니다"
      ],
      "metadata": {
        "colab": {
          "base_uri": "https://localhost:8080/"
        },
        "id": "7bODAmRFs7HD",
        "outputId": "47aaeeae-32a4-44f1-ba34-40a159947e63"
      },
      "execution_count": 25,
      "outputs": [
        {
          "output_type": "execute_result",
          "data": {
            "text/plain": [
              "TtestResult(statistic=array([3.2017885]), pvalue=array([0.00183672]), df=array([99]))"
            ]
          },
          "metadata": {},
          "execution_count": 25
        }
      ]
    },
    {
      "cell_type": "code",
      "source": [
        "import pandas as pd\n",
        "df = pd.read_csv('https://raw.githubusercontent.com/Datamanim/datarepo/main/scipy/height2.csv')"
      ],
      "metadata": {
        "id": "ICXIGGi067R2"
      },
      "execution_count": 29,
      "outputs": []
    },
    {
      "cell_type": "code",
      "source": [
        "shapiro(df)\n",
        "# pvalue > 0.05 정규성 불만족 -> wilcoxon"
      ],
      "metadata": {
        "colab": {
          "base_uri": "https://localhost:8080/"
        },
        "id": "9_TVSC6a68po",
        "outputId": "80aeaddb-ed9d-477b-ca59-d65225b4976e"
      },
      "execution_count": 30,
      "outputs": [
        {
          "output_type": "execute_result",
          "data": {
            "text/plain": [
              "ShapiroResult(statistic=np.float64(0.9672005190174048), pvalue=np.float64(0.013552123212013873))"
            ]
          },
          "metadata": {},
          "execution_count": 30
        }
      ]
    },
    {
      "cell_type": "code",
      "source": [
        "wilcoxon(df-165)\n",
        "#pvalue < 0.05 165 아니다"
      ],
      "metadata": {
        "colab": {
          "base_uri": "https://localhost:8080/"
        },
        "id": "xmGi8q8RtSX4",
        "outputId": "c570d8bf-4000-4154-9603-045ce9835779"
      },
      "execution_count": 31,
      "outputs": [
        {
          "output_type": "execute_result",
          "data": {
            "text/plain": [
              "WilcoxonResult(statistic=array([1952.]), pvalue=array([0.04880534]))"
            ]
          },
          "metadata": {},
          "execution_count": 31
        }
      ]
    }
  ]
}