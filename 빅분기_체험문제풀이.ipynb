{
  "nbformat": 4,
  "nbformat_minor": 0,
  "metadata": {
    "colab": {
      "provenance": []
    },
    "kernelspec": {
      "name": "python3",
      "display_name": "Python 3"
    },
    "language_info": {
      "name": "python"
    }
  },
  "cells": [
    {
      "cell_type": "markdown",
      "source": [
        "작업형1"
      ],
      "metadata": {
        "id": "8fmlD4hfoGBy"
      }
    },
    {
      "cell_type": "code",
      "source": [
        "import pandas as pd\n",
        "\n",
        "df = pd.read_csv(\"data/employee_performance.csv\")\n",
        "df['고객만족도']=df['고객만족도'].fillna(df['고객만족도'].mean())\n",
        "df_new=df.dropna(subset = ['근속연수'])\n",
        "\n",
        "df_new['고객만족도'].quantile(0.25)\n",
        "ans1 = df_new['고객만족도'].quantile(0.75)\n",
        "print(int(ans1))##8\n",
        "\n",
        "# print(df_new.groupby('부서')['연봉'].mean().sort_values(ascending=False))\n",
        "ans2=round(73926.703947,3)\n",
        "print(int(ans2))##73926"
      ],
      "metadata": {
        "id": "vtlIUMFSabOQ"
      },
      "execution_count": null,
      "outputs": []
    },
    {
      "cell_type": "markdown",
      "source": [
        "작업형2"
      ],
      "metadata": {
        "id": "XWJ15FDYoMee"
      }
    },
    {
      "cell_type": "code",
      "source": [
        "import pandas as pd\n",
        "\n",
        "train = pd.read_csv(\"data/customer_train.csv\")\n",
        "test = pd.read_csv(\"data/customer_test.csv\")\n",
        "\n",
        "x_train = train.drop(['회원ID','총구매액'],axis=1)\n",
        "y_train = train['총구매액']\n",
        "x_test = test.drop(['회원ID'],axis=1)\n",
        "\n",
        "x_train['환불금액']=x_train['환불금액'].fillna(0)\n",
        "x_test['환불금액']=x_test['환불금액'].fillna(0)\n",
        "\n",
        "from sklearn.preprocessing import LabelEncoder,MinMaxScaler\n",
        "num_cols = x_train.select_dtypes(exclude = 'object').columns\n",
        "obj_cols = x_train.select_dtypes(include = 'object').columns\n",
        "\n",
        "sc = MinMaxScaler()\n",
        "x_train[num_cols] = sc.fit_transform(x_train[num_cols])\n",
        "x_test[num_cols] = sc.transform(x_test[num_cols])\n",
        "\n",
        "for col in obj_cols:\n",
        "\tle = LabelEncoder()\n",
        "\tx_train[col] = le.fit_transform(x_train[col])\n",
        "\tx_test[col] = le.transform(x_test[col])\n",
        "\n",
        "from sklearn.model_selection import train_test_split\n",
        "x_tr,x_val,y_tr,y_val=train_test_split(x_train,y_train,test_size=0.2,random_state=1)\n",
        "# print(x_tr.shape)\n",
        "# print(x_val.shape)\n",
        "# print(y_tr.shape)\n",
        "# print(y_val.shape)\n",
        "\n",
        "from sklearn.ensemble import RandomForestRegressor\n",
        "rf = RandomForestRegressor()\n",
        "rf.fit(x_tr,y_tr)\n",
        "y_tr_pred = rf.predict(x_tr)\n",
        "y_val_pred = rf.predict(x_val)\n",
        "\n",
        "from sklearn.metrics import mean_squared_error,r2_score\n",
        "print(mean_squared_error(y_tr,y_tr_pred)**0.5)\n",
        "print(mean_squared_error(y_val,y_val_pred)**0.5)\n",
        "print(r2_score(y_tr,y_tr_pred))\n",
        "print(r2_score(y_val,y_val_pred))\n",
        "\n",
        "\n",
        "rf = RandomForestRegressor()\n",
        "rf.fit(x_train,y_train)\n",
        "x_test_pred = rf.predict(x_test)\n",
        "\n",
        "result = pd.DataFrame({'pred':x_test_pred})\n",
        "result.to_csv('result.csv',index=False)\n",
        "\n",
        "df = pd.read_csv('result.csv')\n",
        "print(df)"
      ],
      "metadata": {
        "id": "cP8mEV_IabLM"
      },
      "execution_count": null,
      "outputs": []
    },
    {
      "cell_type": "markdown",
      "source": [
        "작업형3"
      ],
      "metadata": {
        "id": "t28gsl4-oPKk"
      }
    },
    {
      "cell_type": "code",
      "execution_count": 3,
      "metadata": {
        "id": "ID0hLvlfAFA9"
      },
      "outputs": [],
      "source": [
        "import pandas as pd\n",
        "import numpy as np\n",
        "df = pd.read_csv('https://raw.githubusercontent.com/Datamanim/datarepo/refs/heads/master/krdatacertificate/s1.csv')"
      ]
    },
    {
      "cell_type": "code",
      "source": [
        "df1=df[df['Classification']==1]['Resistin']\n",
        "df2=df[df['Classification']==2]['Resistin']"
      ],
      "metadata": {
        "id": "QXEa2cZOAIzl"
      },
      "execution_count": 4,
      "outputs": []
    },
    {
      "cell_type": "code",
      "source": [
        "v1 = np.log(df1).var()\n",
        "v2 = np.log(df2).var()"
      ],
      "metadata": {
        "id": "kL0emj-FAI2j"
      },
      "execution_count": 5,
      "outputs": []
    },
    {
      "cell_type": "code",
      "source": [
        "v2/v1"
      ],
      "metadata": {
        "colab": {
          "base_uri": "https://localhost:8080/"
        },
        "id": "SHWd9pV-AI50",
        "outputId": "20c4c108-b5fe-4383-ef1a-c21abb91ad20"
      },
      "execution_count": 6,
      "outputs": [
        {
          "output_type": "execute_result",
          "data": {
            "text/plain": [
              "1.3479569769029498"
            ]
          },
          "metadata": {},
          "execution_count": 6
        }
      ]
    },
    {
      "cell_type": "code",
      "source": [
        "((v2*len(df2)-1)+(v1*len(df1)-1))/(len(df1)+len(df2)-2)"
      ],
      "metadata": {
        "colab": {
          "base_uri": "https://localhost:8080/"
        },
        "id": "ErVteVnxDII2",
        "outputId": "f07a9c8d-d29c-4d58-e3c2-42db8abbef40"
      },
      "execution_count": 7,
      "outputs": [
        {
          "output_type": "execute_result",
          "data": {
            "text/plain": [
              "0.43920628856012217"
            ]
          },
          "metadata": {},
          "execution_count": 7
        }
      ]
    },
    {
      "cell_type": "code",
      "source": [
        "from scipy.stats import ttest_ind,levene\n",
        "levene(df1,df2)\n",
        "# pvalue>0.07 귀모가설 채택"
      ],
      "metadata": {
        "colab": {
          "base_uri": "https://localhost:8080/"
        },
        "id": "_L3-y1oBYrHB",
        "outputId": "5ccfbe52-7a67-40ff-b94b-5306297799b1"
      },
      "execution_count": 8,
      "outputs": [
        {
          "output_type": "execute_result",
          "data": {
            "text/plain": [
              "LeveneResult(statistic=np.float64(3.284721752314083), pvalue=np.float64(0.07255939000549358))"
            ]
          },
          "metadata": {},
          "execution_count": 8
        }
      ]
    },
    {
      "cell_type": "code",
      "source": [
        "from scipy.stats import ttest_ind\n",
        "ttest_ind(df1,df2,equal_var=True)"
      ],
      "metadata": {
        "colab": {
          "base_uri": "https://localhost:8080/"
        },
        "id": "iAcq7v-nYPPs",
        "outputId": "187f8252-c337-488b-addf-cf16c74fe17c"
      },
      "execution_count": 9,
      "outputs": [
        {
          "output_type": "execute_result",
          "data": {
            "text/plain": [
              "TtestResult(statistic=np.float64(-2.4922510118205365), pvalue=np.float64(0.014131367228310961), df=np.float64(114.0))"
            ]
          },
          "metadata": {},
          "execution_count": 9
        }
      ]
    }
  ]
}