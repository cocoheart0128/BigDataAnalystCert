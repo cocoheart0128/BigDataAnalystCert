{
  "nbformat": 4,
  "nbformat_minor": 0,
  "metadata": {
    "colab": {
      "provenance": []
    },
    "kernelspec": {
      "name": "python3",
      "display_name": "Python 3"
    },
    "language_info": {
      "name": "python"
    }
  },
  "cells": [
    {
      "cell_type": "code",
      "source": [
        "# 정규성 검정\n",
        "\n",
        "## shapiro (<5000) -> anderson,kstest (>5000)"
      ],
      "metadata": {
        "id": "wEjcaaJRdfJU"
      },
      "execution_count": null,
      "outputs": []
    },
    {
      "cell_type": "code",
      "source": [
        "from scipy.stats import shapiro"
      ],
      "metadata": {
        "id": "PBjvsoFkcJzC"
      },
      "execution_count": 3,
      "outputs": []
    },
    {
      "cell_type": "code",
      "source": [
        "import pandas as pd\n",
        "df = pd.read_csv('https://raw.githubusercontent.com/Datamanim/datarepo/main/scipy/normal1.csv')\n",
        "df"
      ],
      "metadata": {
        "colab": {
          "base_uri": "https://localhost:8080/",
          "height": 424
        },
        "id": "IQpP3fw-cJ2W",
        "outputId": "452c227b-f834-4f72-c3d7-01c07aa16c51"
      },
      "execution_count": 1,
      "outputs": [
        {
          "output_type": "execute_result",
          "data": {
            "text/plain": [
              "           data\n",
              "0    295.979767\n",
              "1    289.703739\n",
              "2    300.609670\n",
              "3    299.890856\n",
              "4    293.159612\n",
              "..          ...\n",
              "995  299.901120\n",
              "996  307.387808\n",
              "997  303.869390\n",
              "998  313.979589\n",
              "999  306.950007\n",
              "\n",
              "[1000 rows x 1 columns]"
            ],
            "text/html": [
              "\n",
              "  <div id=\"df-e7a9f5eb-51b5-47ca-8703-295ac91a4d7e\" class=\"colab-df-container\">\n",
              "    <div>\n",
              "<style scoped>\n",
              "    .dataframe tbody tr th:only-of-type {\n",
              "        vertical-align: middle;\n",
              "    }\n",
              "\n",
              "    .dataframe tbody tr th {\n",
              "        vertical-align: top;\n",
              "    }\n",
              "\n",
              "    .dataframe thead th {\n",
              "        text-align: right;\n",
              "    }\n",
              "</style>\n",
              "<table border=\"1\" class=\"dataframe\">\n",
              "  <thead>\n",
              "    <tr style=\"text-align: right;\">\n",
              "      <th></th>\n",
              "      <th>data</th>\n",
              "    </tr>\n",
              "  </thead>\n",
              "  <tbody>\n",
              "    <tr>\n",
              "      <th>0</th>\n",
              "      <td>295.979767</td>\n",
              "    </tr>\n",
              "    <tr>\n",
              "      <th>1</th>\n",
              "      <td>289.703739</td>\n",
              "    </tr>\n",
              "    <tr>\n",
              "      <th>2</th>\n",
              "      <td>300.609670</td>\n",
              "    </tr>\n",
              "    <tr>\n",
              "      <th>3</th>\n",
              "      <td>299.890856</td>\n",
              "    </tr>\n",
              "    <tr>\n",
              "      <th>4</th>\n",
              "      <td>293.159612</td>\n",
              "    </tr>\n",
              "    <tr>\n",
              "      <th>...</th>\n",
              "      <td>...</td>\n",
              "    </tr>\n",
              "    <tr>\n",
              "      <th>995</th>\n",
              "      <td>299.901120</td>\n",
              "    </tr>\n",
              "    <tr>\n",
              "      <th>996</th>\n",
              "      <td>307.387808</td>\n",
              "    </tr>\n",
              "    <tr>\n",
              "      <th>997</th>\n",
              "      <td>303.869390</td>\n",
              "    </tr>\n",
              "    <tr>\n",
              "      <th>998</th>\n",
              "      <td>313.979589</td>\n",
              "    </tr>\n",
              "    <tr>\n",
              "      <th>999</th>\n",
              "      <td>306.950007</td>\n",
              "    </tr>\n",
              "  </tbody>\n",
              "</table>\n",
              "<p>1000 rows × 1 columns</p>\n",
              "</div>\n",
              "    <div class=\"colab-df-buttons\">\n",
              "\n",
              "  <div class=\"colab-df-container\">\n",
              "    <button class=\"colab-df-convert\" onclick=\"convertToInteractive('df-e7a9f5eb-51b5-47ca-8703-295ac91a4d7e')\"\n",
              "            title=\"Convert this dataframe to an interactive table.\"\n",
              "            style=\"display:none;\">\n",
              "\n",
              "  <svg xmlns=\"http://www.w3.org/2000/svg\" height=\"24px\" viewBox=\"0 -960 960 960\">\n",
              "    <path d=\"M120-120v-720h720v720H120Zm60-500h600v-160H180v160Zm220 220h160v-160H400v160Zm0 220h160v-160H400v160ZM180-400h160v-160H180v160Zm440 0h160v-160H620v160ZM180-180h160v-160H180v160Zm440 0h160v-160H620v160Z\"/>\n",
              "  </svg>\n",
              "    </button>\n",
              "\n",
              "  <style>\n",
              "    .colab-df-container {\n",
              "      display:flex;\n",
              "      gap: 12px;\n",
              "    }\n",
              "\n",
              "    .colab-df-convert {\n",
              "      background-color: #E8F0FE;\n",
              "      border: none;\n",
              "      border-radius: 50%;\n",
              "      cursor: pointer;\n",
              "      display: none;\n",
              "      fill: #1967D2;\n",
              "      height: 32px;\n",
              "      padding: 0 0 0 0;\n",
              "      width: 32px;\n",
              "    }\n",
              "\n",
              "    .colab-df-convert:hover {\n",
              "      background-color: #E2EBFA;\n",
              "      box-shadow: 0px 1px 2px rgba(60, 64, 67, 0.3), 0px 1px 3px 1px rgba(60, 64, 67, 0.15);\n",
              "      fill: #174EA6;\n",
              "    }\n",
              "\n",
              "    .colab-df-buttons div {\n",
              "      margin-bottom: 4px;\n",
              "    }\n",
              "\n",
              "    [theme=dark] .colab-df-convert {\n",
              "      background-color: #3B4455;\n",
              "      fill: #D2E3FC;\n",
              "    }\n",
              "\n",
              "    [theme=dark] .colab-df-convert:hover {\n",
              "      background-color: #434B5C;\n",
              "      box-shadow: 0px 1px 3px 1px rgba(0, 0, 0, 0.15);\n",
              "      filter: drop-shadow(0px 1px 2px rgba(0, 0, 0, 0.3));\n",
              "      fill: #FFFFFF;\n",
              "    }\n",
              "  </style>\n",
              "\n",
              "    <script>\n",
              "      const buttonEl =\n",
              "        document.querySelector('#df-e7a9f5eb-51b5-47ca-8703-295ac91a4d7e button.colab-df-convert');\n",
              "      buttonEl.style.display =\n",
              "        google.colab.kernel.accessAllowed ? 'block' : 'none';\n",
              "\n",
              "      async function convertToInteractive(key) {\n",
              "        const element = document.querySelector('#df-e7a9f5eb-51b5-47ca-8703-295ac91a4d7e');\n",
              "        const dataTable =\n",
              "          await google.colab.kernel.invokeFunction('convertToInteractive',\n",
              "                                                    [key], {});\n",
              "        if (!dataTable) return;\n",
              "\n",
              "        const docLinkHtml = 'Like what you see? Visit the ' +\n",
              "          '<a target=\"_blank\" href=https://colab.research.google.com/notebooks/data_table.ipynb>data table notebook</a>'\n",
              "          + ' to learn more about interactive tables.';\n",
              "        element.innerHTML = '';\n",
              "        dataTable['output_type'] = 'display_data';\n",
              "        await google.colab.output.renderOutput(dataTable, element);\n",
              "        const docLink = document.createElement('div');\n",
              "        docLink.innerHTML = docLinkHtml;\n",
              "        element.appendChild(docLink);\n",
              "      }\n",
              "    </script>\n",
              "  </div>\n",
              "\n",
              "\n",
              "    <div id=\"df-cc0f7b87-d03c-4810-b23a-29a35b8ddfc2\">\n",
              "      <button class=\"colab-df-quickchart\" onclick=\"quickchart('df-cc0f7b87-d03c-4810-b23a-29a35b8ddfc2')\"\n",
              "                title=\"Suggest charts\"\n",
              "                style=\"display:none;\">\n",
              "\n",
              "<svg xmlns=\"http://www.w3.org/2000/svg\" height=\"24px\"viewBox=\"0 0 24 24\"\n",
              "     width=\"24px\">\n",
              "    <g>\n",
              "        <path d=\"M19 3H5c-1.1 0-2 .9-2 2v14c0 1.1.9 2 2 2h14c1.1 0 2-.9 2-2V5c0-1.1-.9-2-2-2zM9 17H7v-7h2v7zm4 0h-2V7h2v10zm4 0h-2v-4h2v4z\"/>\n",
              "    </g>\n",
              "</svg>\n",
              "      </button>\n",
              "\n",
              "<style>\n",
              "  .colab-df-quickchart {\n",
              "      --bg-color: #E8F0FE;\n",
              "      --fill-color: #1967D2;\n",
              "      --hover-bg-color: #E2EBFA;\n",
              "      --hover-fill-color: #174EA6;\n",
              "      --disabled-fill-color: #AAA;\n",
              "      --disabled-bg-color: #DDD;\n",
              "  }\n",
              "\n",
              "  [theme=dark] .colab-df-quickchart {\n",
              "      --bg-color: #3B4455;\n",
              "      --fill-color: #D2E3FC;\n",
              "      --hover-bg-color: #434B5C;\n",
              "      --hover-fill-color: #FFFFFF;\n",
              "      --disabled-bg-color: #3B4455;\n",
              "      --disabled-fill-color: #666;\n",
              "  }\n",
              "\n",
              "  .colab-df-quickchart {\n",
              "    background-color: var(--bg-color);\n",
              "    border: none;\n",
              "    border-radius: 50%;\n",
              "    cursor: pointer;\n",
              "    display: none;\n",
              "    fill: var(--fill-color);\n",
              "    height: 32px;\n",
              "    padding: 0;\n",
              "    width: 32px;\n",
              "  }\n",
              "\n",
              "  .colab-df-quickchart:hover {\n",
              "    background-color: var(--hover-bg-color);\n",
              "    box-shadow: 0 1px 2px rgba(60, 64, 67, 0.3), 0 1px 3px 1px rgba(60, 64, 67, 0.15);\n",
              "    fill: var(--button-hover-fill-color);\n",
              "  }\n",
              "\n",
              "  .colab-df-quickchart-complete:disabled,\n",
              "  .colab-df-quickchart-complete:disabled:hover {\n",
              "    background-color: var(--disabled-bg-color);\n",
              "    fill: var(--disabled-fill-color);\n",
              "    box-shadow: none;\n",
              "  }\n",
              "\n",
              "  .colab-df-spinner {\n",
              "    border: 2px solid var(--fill-color);\n",
              "    border-color: transparent;\n",
              "    border-bottom-color: var(--fill-color);\n",
              "    animation:\n",
              "      spin 1s steps(1) infinite;\n",
              "  }\n",
              "\n",
              "  @keyframes spin {\n",
              "    0% {\n",
              "      border-color: transparent;\n",
              "      border-bottom-color: var(--fill-color);\n",
              "      border-left-color: var(--fill-color);\n",
              "    }\n",
              "    20% {\n",
              "      border-color: transparent;\n",
              "      border-left-color: var(--fill-color);\n",
              "      border-top-color: var(--fill-color);\n",
              "    }\n",
              "    30% {\n",
              "      border-color: transparent;\n",
              "      border-left-color: var(--fill-color);\n",
              "      border-top-color: var(--fill-color);\n",
              "      border-right-color: var(--fill-color);\n",
              "    }\n",
              "    40% {\n",
              "      border-color: transparent;\n",
              "      border-right-color: var(--fill-color);\n",
              "      border-top-color: var(--fill-color);\n",
              "    }\n",
              "    60% {\n",
              "      border-color: transparent;\n",
              "      border-right-color: var(--fill-color);\n",
              "    }\n",
              "    80% {\n",
              "      border-color: transparent;\n",
              "      border-right-color: var(--fill-color);\n",
              "      border-bottom-color: var(--fill-color);\n",
              "    }\n",
              "    90% {\n",
              "      border-color: transparent;\n",
              "      border-bottom-color: var(--fill-color);\n",
              "    }\n",
              "  }\n",
              "</style>\n",
              "\n",
              "      <script>\n",
              "        async function quickchart(key) {\n",
              "          const quickchartButtonEl =\n",
              "            document.querySelector('#' + key + ' button');\n",
              "          quickchartButtonEl.disabled = true;  // To prevent multiple clicks.\n",
              "          quickchartButtonEl.classList.add('colab-df-spinner');\n",
              "          try {\n",
              "            const charts = await google.colab.kernel.invokeFunction(\n",
              "                'suggestCharts', [key], {});\n",
              "          } catch (error) {\n",
              "            console.error('Error during call to suggestCharts:', error);\n",
              "          }\n",
              "          quickchartButtonEl.classList.remove('colab-df-spinner');\n",
              "          quickchartButtonEl.classList.add('colab-df-quickchart-complete');\n",
              "        }\n",
              "        (() => {\n",
              "          let quickchartButtonEl =\n",
              "            document.querySelector('#df-cc0f7b87-d03c-4810-b23a-29a35b8ddfc2 button');\n",
              "          quickchartButtonEl.style.display =\n",
              "            google.colab.kernel.accessAllowed ? 'block' : 'none';\n",
              "        })();\n",
              "      </script>\n",
              "    </div>\n",
              "\n",
              "  <div id=\"id_3d0f2064-c7e6-4081-8719-758fbcb1ce99\">\n",
              "    <style>\n",
              "      .colab-df-generate {\n",
              "        background-color: #E8F0FE;\n",
              "        border: none;\n",
              "        border-radius: 50%;\n",
              "        cursor: pointer;\n",
              "        display: none;\n",
              "        fill: #1967D2;\n",
              "        height: 32px;\n",
              "        padding: 0 0 0 0;\n",
              "        width: 32px;\n",
              "      }\n",
              "\n",
              "      .colab-df-generate:hover {\n",
              "        background-color: #E2EBFA;\n",
              "        box-shadow: 0px 1px 2px rgba(60, 64, 67, 0.3), 0px 1px 3px 1px rgba(60, 64, 67, 0.15);\n",
              "        fill: #174EA6;\n",
              "      }\n",
              "\n",
              "      [theme=dark] .colab-df-generate {\n",
              "        background-color: #3B4455;\n",
              "        fill: #D2E3FC;\n",
              "      }\n",
              "\n",
              "      [theme=dark] .colab-df-generate:hover {\n",
              "        background-color: #434B5C;\n",
              "        box-shadow: 0px 1px 3px 1px rgba(0, 0, 0, 0.15);\n",
              "        filter: drop-shadow(0px 1px 2px rgba(0, 0, 0, 0.3));\n",
              "        fill: #FFFFFF;\n",
              "      }\n",
              "    </style>\n",
              "    <button class=\"colab-df-generate\" onclick=\"generateWithVariable('df')\"\n",
              "            title=\"Generate code using this dataframe.\"\n",
              "            style=\"display:none;\">\n",
              "\n",
              "  <svg xmlns=\"http://www.w3.org/2000/svg\" height=\"24px\"viewBox=\"0 0 24 24\"\n",
              "       width=\"24px\">\n",
              "    <path d=\"M7,19H8.4L18.45,9,17,7.55,7,17.6ZM5,21V16.75L18.45,3.32a2,2,0,0,1,2.83,0l1.4,1.43a1.91,1.91,0,0,1,.58,1.4,1.91,1.91,0,0,1-.58,1.4L9.25,21ZM18.45,9,17,7.55Zm-12,3A5.31,5.31,0,0,0,4.9,8.1,5.31,5.31,0,0,0,1,6.5,5.31,5.31,0,0,0,4.9,4.9,5.31,5.31,0,0,0,6.5,1,5.31,5.31,0,0,0,8.1,4.9,5.31,5.31,0,0,0,12,6.5,5.46,5.46,0,0,0,6.5,12Z\"/>\n",
              "  </svg>\n",
              "    </button>\n",
              "    <script>\n",
              "      (() => {\n",
              "      const buttonEl =\n",
              "        document.querySelector('#id_3d0f2064-c7e6-4081-8719-758fbcb1ce99 button.colab-df-generate');\n",
              "      buttonEl.style.display =\n",
              "        google.colab.kernel.accessAllowed ? 'block' : 'none';\n",
              "\n",
              "      buttonEl.onclick = () => {\n",
              "        google.colab.notebook.generateWithVariable('df');\n",
              "      }\n",
              "      })();\n",
              "    </script>\n",
              "  </div>\n",
              "\n",
              "    </div>\n",
              "  </div>\n"
            ],
            "application/vnd.google.colaboratory.intrinsic+json": {
              "type": "dataframe",
              "variable_name": "df",
              "summary": "{\n  \"name\": \"df\",\n  \"rows\": 1000,\n  \"fields\": [\n    {\n      \"column\": \"data\",\n      \"properties\": {\n        \"dtype\": \"number\",\n        \"std\": 5.161675747838131,\n        \"min\": 280.30299827148383,\n        \"max\": 315.9736560737917,\n        \"num_unique_values\": 945,\n        \"samples\": [\n          306.14823353547047,\n          307.8359054855137,\n          297.9494718456322\n        ],\n        \"semantic_type\": \"\",\n        \"description\": \"\"\n      }\n    }\n  ]\n}"
            }
          },
          "metadata": {},
          "execution_count": 1
        }
      ]
    },
    {
      "cell_type": "code",
      "source": [
        "shapiro(df['data'])\n",
        "#pvalue>0.05 정규성 있음"
      ],
      "metadata": {
        "colab": {
          "base_uri": "https://localhost:8080/"
        },
        "id": "5opdwt5AcJ49",
        "outputId": "ab4314bf-6a10-47cb-d82e-770b31fdd5cb"
      },
      "execution_count": 4,
      "outputs": [
        {
          "output_type": "execute_result",
          "data": {
            "text/plain": [
              "ShapiroResult(statistic=np.float64(0.9981433805517037), pvalue=np.float64(0.3479659233067207))"
            ]
          },
          "metadata": {},
          "execution_count": 4
        }
      ]
    },
    {
      "cell_type": "code",
      "source": [
        "import pandas as pd\n",
        "import matplotlib.pyplot as plt\n",
        "df = pd.read_csv('https://raw.githubusercontent.com/Datamanim/datarepo/main/scipy/normal3.csv')\n",
        "shapiro(df['data'])\n",
        "#pvalue<0.05 정규성 없음"
      ],
      "metadata": {
        "colab": {
          "base_uri": "https://localhost:8080/"
        },
        "id": "2fcQH3gwcrTV",
        "outputId": "61657163-5040-45d9-fced-37d3546d04cd"
      },
      "execution_count": 6,
      "outputs": [
        {
          "output_type": "execute_result",
          "data": {
            "text/plain": [
              "ShapiroResult(statistic=np.float64(0.9578887230674165), pvalue=np.float64(2.309852860177995e-16))"
            ]
          },
          "metadata": {},
          "execution_count": 6
        }
      ]
    },
    {
      "cell_type": "code",
      "source": [
        "import numpy as np\n",
        "import matplotlib.pyplot as plt\n",
        "import pandas as pd\n",
        "df = pd.read_csv('https://raw.githubusercontent.com/Datamanim/datarepo/main/scipy/normal3.csv')\n",
        "log_y_data = np.log1p(df)\n",
        "shapiro(log_y_data)\n",
        "#pvalue>0.05 정규성 있음"
      ],
      "metadata": {
        "colab": {
          "base_uri": "https://localhost:8080/"
        },
        "id": "N5Fdr3hzcrWc",
        "outputId": "6ed2a434-63fa-47dc-b999-5344a1df50ca"
      },
      "execution_count": 7,
      "outputs": [
        {
          "output_type": "execute_result",
          "data": {
            "text/plain": [
              "ShapiroResult(statistic=np.float64(0.9976879570377132), pvalue=np.float64(0.17513126966862336))"
            ]
          },
          "metadata": {},
          "execution_count": 7
        }
      ]
    },
    {
      "cell_type": "code",
      "source": [
        "import pandas as pd\n",
        "import matplotlib.pyplot as plt\n",
        "df = pd.read_csv('https://raw.githubusercontent.com/Datamanim/datarepo/main/scipy/normal6.csv')\n",
        "shapiro(df['data'])"
      ],
      "metadata": {
        "colab": {
          "base_uri": "https://localhost:8080/"
        },
        "id": "nfmCW-j5crZS",
        "outputId": "07433756-1485-4a91-e49f-e1a66fa786e1"
      },
      "execution_count": 10,
      "outputs": [
        {
          "output_type": "stream",
          "name": "stderr",
          "text": [
            "/usr/local/lib/python3.11/dist-packages/scipy/stats/_axis_nan_policy.py:586: UserWarning: scipy.stats.shapiro: For N > 5000, computed p-value may not be accurate. Current N is 6000.\n",
            "  res = hypotest_fun_out(*samples, **kwds)\n"
          ]
        },
        {
          "output_type": "execute_result",
          "data": {
            "text/plain": [
              "ShapiroResult(statistic=np.float64(0.9995353804150279), pvalue=np.float64(0.15046155392344363))"
            ]
          },
          "metadata": {},
          "execution_count": 10
        }
      ]
    },
    {
      "cell_type": "code",
      "source": [
        "# import scipy.stats\n",
        "# dir(scipy.stats)"
      ],
      "metadata": {
        "id": "MvKREQEBeVnU"
      },
      "execution_count": 14,
      "outputs": []
    },
    {
      "cell_type": "code",
      "source": [
        "### 개수 >5000 anderson\n",
        "from scipy.stats import anderson,kstest\n",
        "anderson(df['data'])"
      ],
      "metadata": {
        "colab": {
          "base_uri": "https://localhost:8080/"
        },
        "id": "6J74CXmLcrcJ",
        "outputId": "6e4622d5-40ab-4dfb-9cbb-8535a69a784c"
      },
      "execution_count": 16,
      "outputs": [
        {
          "output_type": "execute_result",
          "data": {
            "text/plain": [
              "AndersonResult(statistic=np.float64(0.8266993530396576), critical_values=array([0.576, 0.656, 0.786, 0.917, 1.091]), significance_level=array([15. , 10. ,  5. ,  2.5,  1. ]), fit_result=  params: FitParams(loc=np.float64(299.95980319533163), scale=np.float64(5.031806887885135))\n",
              " success: True\n",
              " message: '`anderson` successfully fit the distribution to the data.')"
            ]
          },
          "metadata": {},
          "execution_count": 16
        }
      ]
    },
    {
      "cell_type": "code",
      "source": [
        "# critical_values 중 값 > statistic 정규성 있음\n",
        "# 예 : 0.656 < 0.8266993530396576 10% 유의수준 정규성 없음\n",
        "# 예 : 0.917 > 0.826699353039657 5% 유의수준 정규성 있음"
      ],
      "metadata": {
        "id": "fHsRWf4OhtUL"
      },
      "execution_count": null,
      "outputs": []
    },
    {
      "cell_type": "code",
      "source": [
        "kstest(df['data'],'norm')"
      ],
      "metadata": {
        "colab": {
          "base_uri": "https://localhost:8080/"
        },
        "id": "ZAIqFmF7crfB",
        "outputId": "8adece26-2aac-4725-d5a4-007d3334dd89"
      },
      "execution_count": 19,
      "outputs": [
        {
          "output_type": "execute_result",
          "data": {
            "text/plain": [
              "KstestResult(statistic=np.float64(1.0), pvalue=np.float64(0.0), statistic_location=np.float64(281.9138298201764), statistic_sign=np.int8(-1))"
            ]
          },
          "metadata": {},
          "execution_count": 19
        }
      ]
    },
    {
      "cell_type": "code",
      "source": [],
      "metadata": {
        "id": "UF6HMh6leyko"
      },
      "execution_count": null,
      "outputs": []
    },
    {
      "cell_type": "code",
      "source": [
        "help(kstest)"
      ],
      "metadata": {
        "colab": {
          "base_uri": "https://localhost:8080/"
        },
        "id": "mnydmvFNeooy",
        "outputId": "3c058b7d-30d8-43cf-f8a0-25e730962b28"
      },
      "execution_count": 18,
      "outputs": [
        {
          "output_type": "stream",
          "name": "stdout",
          "text": [
            "Help on function kstest in module scipy.stats._stats_py:\n",
            "\n",
            "kstest(rvs, cdf, args=(), N=20, alternative='two-sided', method='auto', *, axis=0, nan_policy='propagate', keepdims=False)\n",
            "    Performs the (one-sample or two-sample) Kolmogorov-Smirnov test for\n",
            "    goodness of fit.\n",
            "    \n",
            "    The one-sample test compares the underlying distribution F(x) of a sample\n",
            "    against a given distribution G(x). The two-sample test compares the\n",
            "    underlying distributions of two independent samples. Both tests are valid\n",
            "    only for continuous distributions.\n",
            "    \n",
            "    Parameters\n",
            "    ----------\n",
            "    rvs : str, array_like, or callable\n",
            "        If an array, it should be a 1-D array of observations of random\n",
            "        variables.\n",
            "        If a callable, it should be a function to generate random variables;\n",
            "        it is required to have a keyword argument `size`.\n",
            "        If a string, it should be the name of a distribution in `scipy.stats`,\n",
            "        which will be used to generate random variables.\n",
            "    cdf : str, array_like or callable\n",
            "        If array_like, it should be a 1-D array of observations of random\n",
            "        variables, and the two-sample test is performed\n",
            "        (and rvs must be array_like).\n",
            "        If a callable, that callable is used to calculate the cdf.\n",
            "        If a string, it should be the name of a distribution in `scipy.stats`,\n",
            "        which will be used as the cdf function.\n",
            "    args : tuple, sequence, optional\n",
            "        Distribution parameters, used if `rvs` or `cdf` are strings or\n",
            "        callables.\n",
            "    N : int, optional\n",
            "        Sample size if `rvs` is string or callable.  Default is 20.\n",
            "    alternative : {'two-sided', 'less', 'greater'}, optional\n",
            "        Defines the null and alternative hypotheses. Default is 'two-sided'.\n",
            "        Please see explanations in the Notes below.\n",
            "    method : {'auto', 'exact', 'approx', 'asymp'}, optional\n",
            "        Defines the distribution used for calculating the p-value.\n",
            "        The following options are available (default is 'auto'):\n",
            "        \n",
            "          * 'auto' : selects one of the other options.\n",
            "          * 'exact' : uses the exact distribution of test statistic.\n",
            "          * 'approx' : approximates the two-sided probability with twice the\n",
            "            one-sided probability\n",
            "          * 'asymp': uses asymptotic distribution of test statistic\n",
            "    axis : int or None, default: 0\n",
            "        If an int, the axis of the input along which to compute the statistic.\n",
            "        The statistic of each axis-slice (e.g. row) of the input will appear in a\n",
            "        corresponding element of the output.\n",
            "        If ``None``, the input will be raveled before computing the statistic.\n",
            "    nan_policy : {'propagate', 'omit', 'raise'}\n",
            "        Defines how to handle input NaNs.\n",
            "        \n",
            "        - ``propagate``: if a NaN is present in the axis slice (e.g. row) along\n",
            "          which the  statistic is computed, the corresponding entry of the output\n",
            "          will be NaN.\n",
            "        - ``omit``: NaNs will be omitted when performing the calculation.\n",
            "          If insufficient data remains in the axis slice along which the\n",
            "          statistic is computed, the corresponding entry of the output will be\n",
            "          NaN.\n",
            "        - ``raise``: if a NaN is present, a ``ValueError`` will be raised.\n",
            "    keepdims : bool, default: False\n",
            "        If this is set to True, the axes which are reduced are left\n",
            "        in the result as dimensions with size one. With this option,\n",
            "        the result will broadcast correctly against the input array.\n",
            "    \n",
            "    Returns\n",
            "    -------\n",
            "    res: KstestResult\n",
            "        An object containing attributes:\n",
            "        \n",
            "        statistic : float\n",
            "            KS test statistic, either D+, D-, or D (the maximum of the two)\n",
            "        pvalue : float\n",
            "            One-tailed or two-tailed p-value.\n",
            "        statistic_location : float\n",
            "            In a one-sample test, this is the value of `rvs`\n",
            "            corresponding with the KS statistic; i.e., the distance between\n",
            "            the empirical distribution function and the hypothesized cumulative\n",
            "            distribution function is measured at this observation.\n",
            "        \n",
            "            In a two-sample test, this is the value from `rvs` or `cdf`\n",
            "            corresponding with the KS statistic; i.e., the distance between\n",
            "            the empirical distribution functions is measured at this\n",
            "            observation.\n",
            "        statistic_sign : int\n",
            "            In a one-sample test, this is +1 if the KS statistic is the\n",
            "            maximum positive difference between the empirical distribution\n",
            "            function and the hypothesized cumulative distribution function\n",
            "            (D+); it is -1 if the KS statistic is the maximum negative\n",
            "            difference (D-).\n",
            "        \n",
            "            In a two-sample test, this is +1 if the empirical distribution\n",
            "            function of `rvs` exceeds the empirical distribution\n",
            "            function of `cdf` at `statistic_location`, otherwise -1.\n",
            "    \n",
            "    See Also\n",
            "    --------\n",
            "    \n",
            "    :func:`ks_1samp`, :func:`ks_2samp`\n",
            "        ..\n",
            "    \n",
            "    Notes\n",
            "    -----\n",
            "    There are three options for the null and corresponding alternative\n",
            "    hypothesis that can be selected using the `alternative` parameter.\n",
            "    \n",
            "    - `two-sided`: The null hypothesis is that the two distributions are\n",
            "      identical, F(x)=G(x) for all x; the alternative is that they are not\n",
            "      identical.\n",
            "    \n",
            "    - `less`: The null hypothesis is that F(x) >= G(x) for all x; the\n",
            "      alternative is that F(x) < G(x) for at least one x.\n",
            "    \n",
            "    - `greater`: The null hypothesis is that F(x) <= G(x) for all x; the\n",
            "      alternative is that F(x) > G(x) for at least one x.\n",
            "    \n",
            "    Note that the alternative hypotheses describe the *CDFs* of the\n",
            "    underlying distributions, not the observed values. For example,\n",
            "    suppose x1 ~ F and x2 ~ G. If F(x) > G(x) for all x, the values in\n",
            "    x1 tend to be less than those in x2.\n",
            "    \n",
            "    Beginning in SciPy 1.9, ``np.matrix`` inputs (not recommended for new\n",
            "    code) are converted to ``np.ndarray`` before the calculation is performed. In\n",
            "    this case, the output will be a scalar or ``np.ndarray`` of appropriate shape\n",
            "    rather than a 2D ``np.matrix``. Similarly, while masked elements of masked\n",
            "    arrays are ignored, the output will be a scalar or ``np.ndarray`` rather than a\n",
            "    masked array with ``mask=False``.\n",
            "    \n",
            "    Examples\n",
            "    --------\n",
            "    Suppose we wish to test the null hypothesis that a sample is distributed\n",
            "    according to the standard normal.\n",
            "    We choose a confidence level of 95%; that is, we will reject the null\n",
            "    hypothesis in favor of the alternative if the p-value is less than 0.05.\n",
            "    \n",
            "    When testing uniformly distributed data, we would expect the\n",
            "    null hypothesis to be rejected.\n",
            "    \n",
            "    >>> import numpy as np\n",
            "    >>> from scipy import stats\n",
            "    >>> rng = np.random.default_rng()\n",
            "    >>> stats.kstest(stats.uniform.rvs(size=100, random_state=rng),\n",
            "    ...              stats.norm.cdf)\n",
            "    KstestResult(statistic=0.5001899973268688,\n",
            "                 pvalue=1.1616392184763533e-23,\n",
            "                 statistic_location=0.00047625268963724654,\n",
            "                 statistic_sign=-1)\n",
            "    \n",
            "    Indeed, the p-value is lower than our threshold of 0.05, so we reject the\n",
            "    null hypothesis in favor of the default \"two-sided\" alternative: the data\n",
            "    are *not* distributed according to the standard normal.\n",
            "    \n",
            "    When testing random variates from the standard normal distribution, we\n",
            "    expect the data to be consistent with the null hypothesis most of the time.\n",
            "    \n",
            "    >>> x = stats.norm.rvs(size=100, random_state=rng)\n",
            "    >>> stats.kstest(x, stats.norm.cdf)\n",
            "    KstestResult(statistic=0.05345882212970396,\n",
            "                 pvalue=0.9227159037744717,\n",
            "                 statistic_location=-1.2451343873745018,\n",
            "                 statistic_sign=1)\n",
            "    \n",
            "    As expected, the p-value of 0.92 is not below our threshold of 0.05, so\n",
            "    we cannot reject the null hypothesis.\n",
            "    \n",
            "    Suppose, however, that the random variates are distributed according to\n",
            "    a normal distribution that is shifted toward greater values. In this case,\n",
            "    the cumulative density function (CDF) of the underlying distribution tends\n",
            "    to be *less* than the CDF of the standard normal. Therefore, we would\n",
            "    expect the null hypothesis to be rejected with ``alternative='less'``:\n",
            "    \n",
            "    >>> x = stats.norm.rvs(size=100, loc=0.5, random_state=rng)\n",
            "    >>> stats.kstest(x, stats.norm.cdf, alternative='less')\n",
            "    KstestResult(statistic=0.17482387821055168,\n",
            "                 pvalue=0.001913921057766743,\n",
            "                 statistic_location=0.3713830565352756,\n",
            "                 statistic_sign=-1)\n",
            "    \n",
            "    and indeed, with p-value smaller than our threshold, we reject the null\n",
            "    hypothesis in favor of the alternative.\n",
            "    \n",
            "    For convenience, the previous test can be performed using the name of the\n",
            "    distribution as the second argument.\n",
            "    \n",
            "    >>> stats.kstest(x, \"norm\", alternative='less')\n",
            "    KstestResult(statistic=0.17482387821055168,\n",
            "                 pvalue=0.001913921057766743,\n",
            "                 statistic_location=0.3713830565352756,\n",
            "                 statistic_sign=-1)\n",
            "    \n",
            "    The examples above have all been one-sample tests identical to those\n",
            "    performed by `ks_1samp`. Note that `kstest` can also perform two-sample\n",
            "    tests identical to those performed by `ks_2samp`. For example, when two\n",
            "    samples are drawn from the same distribution, we expect the data to be\n",
            "    consistent with the null hypothesis most of the time.\n",
            "    \n",
            "    >>> sample1 = stats.laplace.rvs(size=105, random_state=rng)\n",
            "    >>> sample2 = stats.laplace.rvs(size=95, random_state=rng)\n",
            "    >>> stats.kstest(sample1, sample2)\n",
            "    KstestResult(statistic=0.11779448621553884,\n",
            "                 pvalue=0.4494256912629795,\n",
            "                 statistic_location=0.6138814275424155,\n",
            "                 statistic_sign=1)\n",
            "    \n",
            "    As expected, the p-value of 0.45 is not below our threshold of 0.05, so\n",
            "    we cannot reject the null hypothesis.\n",
            "\n"
          ]
        }
      ]
    },
    {
      "cell_type": "code",
      "source": [],
      "metadata": {
        "id": "YiwHAVnOcrh3"
      },
      "execution_count": null,
      "outputs": []
    },
    {
      "cell_type": "code",
      "source": [],
      "metadata": {
        "id": "5Zn-zkoScrkt"
      },
      "execution_count": null,
      "outputs": []
    },
    {
      "cell_type": "code",
      "source": [],
      "metadata": {
        "id": "lyYJ1taFcrnm"
      },
      "execution_count": null,
      "outputs": []
    },
    {
      "cell_type": "code",
      "source": [],
      "metadata": {
        "id": "OEQzjPHKcrqd"
      },
      "execution_count": null,
      "outputs": []
    },
    {
      "cell_type": "code",
      "source": [],
      "metadata": {
        "id": "7oAPqtPDcrtV"
      },
      "execution_count": null,
      "outputs": []
    },
    {
      "cell_type": "code",
      "source": [],
      "metadata": {
        "id": "_ALco9UocrwM"
      },
      "execution_count": null,
      "outputs": []
    },
    {
      "cell_type": "code",
      "source": [],
      "metadata": {
        "id": "Vl70mZ1UcrzD"
      },
      "execution_count": null,
      "outputs": []
    },
    {
      "cell_type": "code",
      "source": [],
      "metadata": {
        "id": "5rTiQ2Mecr1p"
      },
      "execution_count": null,
      "outputs": []
    },
    {
      "cell_type": "code",
      "source": [],
      "metadata": {
        "id": "djqUxpm1cr4Q"
      },
      "execution_count": null,
      "outputs": []
    },
    {
      "cell_type": "code",
      "source": [],
      "metadata": {
        "id": "PQEQNdk3cr7I"
      },
      "execution_count": null,
      "outputs": []
    },
    {
      "cell_type": "code",
      "source": [],
      "metadata": {
        "id": "KiiLoPiJcr9M"
      },
      "execution_count": null,
      "outputs": []
    },
    {
      "cell_type": "code",
      "source": [],
      "metadata": {
        "id": "jaMU_FEjugSc"
      },
      "execution_count": null,
      "outputs": []
    }
  ]
}